{
 "cells": [
  {
   "cell_type": "code",
   "execution_count": 3,
   "id": "f32e86ef-77a7-415a-a357-dd28dafcf516",
   "metadata": {},
   "outputs": [
    {
     "data": {
      "text/html": [
       "<center><table><tr><th style='border: 1px #ccc solid; text-align: center;'>Clase</th><th style='border: 1px #ccc solid; text-align: center;'>F<sub>a</sub></th><th style='border: 1px #ccc solid; text-align: center;'>F<sub>r</sub></th><th style='border: 1px #ccc solid; text-align: center;'>F<sub>r</sub> Acum.</th></tr><tr><td style='border: 1px #ccc solid; text-align: center;'>1</td><td style='border: 1px #ccc solid; text-align: center;'>8</td><td style='border: 1px #ccc solid; text-align: center;'>26.666666666666668</td><td style='border: 1px #ccc solid; text-align: center;'>26.666666666666668</td></tr><tr><td style='border: 1px #ccc solid; text-align: center;'>2</td><td style='border: 1px #ccc solid; text-align: center;'>5</td><td style='border: 1px #ccc solid; text-align: center;'>16.666666666666668</td><td style='border: 1px #ccc solid; text-align: center;'>43.333333333333336</td></tr><tr><td style='border: 1px #ccc solid; text-align: center;'>3</td><td style='border: 1px #ccc solid; text-align: center;'>4</td><td style='border: 1px #ccc solid; text-align: center;'>13.333333333333334</td><td style='border: 1px #ccc solid; text-align: center;'>56.66666666666667</td></tr><tr><td style='border: 1px #ccc solid; text-align: center;'>4</td><td style='border: 1px #ccc solid; text-align: center;'>5</td><td style='border: 1px #ccc solid; text-align: center;'>16.666666666666668</td><td style='border: 1px #ccc solid; text-align: center;'>73.33333333333334</td></tr><tr><td style='border: 1px #ccc solid; text-align: center;'>5</td><td style='border: 1px #ccc solid; text-align: center;'>8</td><td style='border: 1px #ccc solid; text-align: center;'>26.666666666666668</td><td style='border: 1px #ccc solid; text-align: center;'>100.00000000000001</td></tr></table></center>"
      ],
      "text/plain": [
       "<IPython.core.display.HTML object>"
      ]
     },
     "metadata": {},
     "output_type": "display_data"
    }
   ],
   "source": [
    "import CodeBase.Carmen as car\n",
    "import CodeBase.Jean as jen\n",
    "import CodeBase.Mary as mar\n",
    "import CodeBase.Ian as ian\n",
    "import CodeBase.Ivan as iv\n",
    "import CodeBase.Edwin as ed\n",
    "\n",
    "datos = [1, 2, 2, 4, 5, 2, 3, 4, 5, 1, 3, 4, 5, 1, 2, 5, 5, 1, 4, 3, 5, 1, 2, 3, 4, 1, 1, 1, 5, 5]\n",
    "\n",
    "clases, fabs = car.frec_abs(datos)\n",
    "clases_sorted = jen.get_clases(clases)\n",
    "fabs_sorted = mar.sort_clases_fa(clases, clases_sorted, fabs)\n",
    "frs = ian.frecRel(fabs_sorted)\n",
    "facumuladas = iv.calcular_frecuencia_acumulada(frs)\n",
    "\n",
    "ed.printHTMLTable([\"Clase\", \"F<sub>a</sub>\", \"F<sub>r</sub>\", \"F<sub>r</sub> Acum.\"], [clases_sorted, fabs_sorted, frs, facumuladas])"
   ]
  }
 ],
 "metadata": {
  "kernelspec": {
   "display_name": "Python 3 (ipykernel)",
   "language": "python",
   "name": "python3"
  },
  "language_info": {
   "codemirror_mode": {
    "name": "ipython",
    "version": 3
   },
   "file_extension": ".py",
   "mimetype": "text/x-python",
   "name": "python",
   "nbconvert_exporter": "python",
   "pygments_lexer": "ipython3",
   "version": "3.12.3"
  }
 },
 "nbformat": 4,
 "nbformat_minor": 5
}
